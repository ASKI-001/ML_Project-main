{
 "cells": [
  {
   "cell_type": "code",
   "execution_count": 21,
   "id": "d676131d-f31d-4154-bc52-afadae3abb6b",
   "metadata": {},
   "outputs": [],
   "source": [
    "import numpy as np"
   ]
  },
  {
   "cell_type": "code",
   "execution_count": 22,
   "id": "1c807348-a7a8-4d08-bee3-65fa96532ad8",
   "metadata": {},
   "outputs": [],
   "source": [
    "import json \n",
    "with open('../artifacts/kaggle.json', 'r') as file :\n",
    "    data = json.load(file)"
   ]
  },
  {
   "cell_type": "code",
   "execution_count": 23,
   "id": "0994a0ab-0b27-4a77-bd59-44ae15bd862b",
   "metadata": {},
   "outputs": [
    {
     "data": {
      "text/plain": [
       "{'username': 'isurinda', 'key': '0c1092e4cfd33d0b01a1eb1e1c9cb917'}"
      ]
     },
     "execution_count": 23,
     "metadata": {},
     "output_type": "execute_result"
    }
   ],
   "source": [
    "data"
   ]
  },
  {
   "cell_type": "code",
   "execution_count": 24,
   "id": "387816a7-00e0-4629-b1b0-cabff51157da",
   "metadata": {},
   "outputs": [
    {
     "name": "stdout",
     "output_type": "stream",
     "text": [
      "Requirement already satisfied: kaggle in c:\\users\\user\\desktop\\ml_project\\project01-sentiment_analysis_project\\env\\lib\\site-packages (1.6.17)\n",
      "Requirement already satisfied: six>=1.10 in c:\\users\\user\\desktop\\ml_project\\project01-sentiment_analysis_project\\env\\lib\\site-packages (from kaggle) (1.17.0)\n",
      "Requirement already satisfied: certifi>=2023.7.22 in c:\\users\\user\\desktop\\ml_project\\project01-sentiment_analysis_project\\env\\lib\\site-packages (from kaggle) (2025.1.31)\n",
      "Requirement already satisfied: python-dateutil in c:\\users\\user\\desktop\\ml_project\\project01-sentiment_analysis_project\\env\\lib\\site-packages (from kaggle) (2.9.0.post0)\n",
      "Requirement already satisfied: requests in c:\\users\\user\\desktop\\ml_project\\project01-sentiment_analysis_project\\env\\lib\\site-packages (from kaggle) (2.32.3)\n",
      "Requirement already satisfied: tqdm in c:\\users\\user\\desktop\\ml_project\\project01-sentiment_analysis_project\\env\\lib\\site-packages (from kaggle) (4.67.1)\n",
      "Requirement already satisfied: python-slugify in c:\\users\\user\\desktop\\ml_project\\project01-sentiment_analysis_project\\env\\lib\\site-packages (from kaggle) (8.0.4)\n",
      "Requirement already satisfied: urllib3 in c:\\users\\user\\desktop\\ml_project\\project01-sentiment_analysis_project\\env\\lib\\site-packages (from kaggle) (2.3.0)\n",
      "Requirement already satisfied: bleach in c:\\users\\user\\desktop\\ml_project\\project01-sentiment_analysis_project\\env\\lib\\site-packages (from kaggle) (6.2.0)\n",
      "Requirement already satisfied: webencodings in c:\\users\\user\\desktop\\ml_project\\project01-sentiment_analysis_project\\env\\lib\\site-packages (from bleach->kaggle) (0.5.1)\n",
      "Requirement already satisfied: text-unidecode>=1.3 in c:\\users\\user\\desktop\\ml_project\\project01-sentiment_analysis_project\\env\\lib\\site-packages (from python-slugify->kaggle) (1.3)\n",
      "Requirement already satisfied: charset-normalizer<4,>=2 in c:\\users\\user\\desktop\\ml_project\\project01-sentiment_analysis_project\\env\\lib\\site-packages (from requests->kaggle) (3.4.1)\n",
      "Requirement already satisfied: idna<4,>=2.5 in c:\\users\\user\\desktop\\ml_project\\project01-sentiment_analysis_project\\env\\lib\\site-packages (from requests->kaggle) (3.10)\n",
      "Requirement already satisfied: colorama in c:\\users\\user\\desktop\\ml_project\\project01-sentiment_analysis_project\\env\\lib\\site-packages (from tqdm->kaggle) (0.4.6)\n",
      "Note: you may need to restart the kernel to use updated packages.\n"
     ]
    }
   ],
   "source": [
    "pip install kaggle"
   ]
  },
  {
   "cell_type": "code",
   "execution_count": 25,
   "id": "93f8b78d-b12d-4837-abbe-be27dfbd5ab9",
   "metadata": {},
   "outputs": [],
   "source": [
    "import os\n",
    "os.environ['KAGGLE_USERNAME' ] = data['username']\n",
    "os.environ['KAGGLE_KEY'] = data['key']"
   ]
  },
  {
   "cell_type": "code",
   "execution_count": 26,
   "id": "42293244-9957-4a07-8ce3-9913bdcc85bd",
   "metadata": {},
   "outputs": [],
   "source": [
    "from kaggle.api.kaggle_api_extended import KaggleApi\n",
    "api = KaggleApi()\n",
    "api.authenticate()"
   ]
  },
  {
   "cell_type": "code",
   "execution_count": 29,
   "id": "36b1f219-8997-4a15-b5c7-30d374692dca",
   "metadata": {},
   "outputs": [
    {
     "name": "stdout",
     "output_type": "stream",
     "text": [
      "Dataset URL: https://www.kaggle.com/datasets/dineshpiyasamara/sentiment-analysis-dataset\n"
     ]
    }
   ],
   "source": [
    "api.dataset_download_files('dineshpiyasamara/sentiment-analysis-dataset', path='../artifacts/')"
   ]
  },
  {
   "cell_type": "code",
   "execution_count": 30,
   "id": "dd1557ec-eb28-4de1-b7f5-fa501b4398af",
   "metadata": {},
   "outputs": [],
   "source": [
    "import zipfile\n",
    "with zipfile.ZipFile('../artifacts/sentiment-analysis-dataset.zip', 'r') as zip_ref:\n",
    "    zip_ref.extractall('../artifacts/')"
   ]
  },
  {
   "cell_type": "code",
   "execution_count": null,
   "id": "2cad2728-31cf-4946-9c56-2852a45463a4",
   "metadata": {},
   "outputs": [],
   "source": [
    " "
   ]
  }
 ],
 "metadata": {
  "kernelspec": {
   "display_name": "Python 3 (ipykernel)",
   "language": "python",
   "name": "python3"
  },
  "language_info": {
   "codemirror_mode": {
    "name": "ipython",
    "version": 3
   },
   "file_extension": ".py",
   "mimetype": "text/x-python",
   "name": "python",
   "nbconvert_exporter": "python",
   "pygments_lexer": "ipython3",
   "version": "3.13.2"
  }
 },
 "nbformat": 4,
 "nbformat_minor": 5
}
